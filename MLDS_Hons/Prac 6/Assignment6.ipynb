{
 "cells": [
  {
   "cell_type": "markdown",
   "id": "31deaceb",
   "metadata": {},
   "source": [
    "\n",
    "<h3>Write a program to recognize a document is positive or negative based on polarity words using suitable classification method.</h3>"
   ]
  },
  {
   "cell_type": "markdown",
   "id": "0fdbb543",
   "metadata": {},
   "source": [
    "<h6>We will use the corpus nlkt.corpus.movie_reviews as our data.</h6>"
   ]
  },
  {
   "cell_type": "code",
   "execution_count": 2,
   "id": "76cbee08",
   "metadata": {},
   "outputs": [
    {
     "name": "stderr",
     "output_type": "stream",
     "text": [
      "[nltk_data] Downloading package movie_reviews to\n",
      "[nltk_data]     C:\\Users\\hp\\AppData\\Roaming\\nltk_data...\n",
      "[nltk_data]   Package movie_reviews is already up-to-date!\n"
     ]
    },
    {
     "data": {
      "text/plain": [
       "True"
      ]
     },
     "execution_count": 2,
     "metadata": {},
     "output_type": "execute_result"
    }
   ],
   "source": [
    "nltk.download('movie_reviews')"
   ]
  },
  {
   "cell_type": "code",
   "execution_count": 11,
   "id": "92d5e49c",
   "metadata": {},
   "outputs": [],
   "source": [
    "import nltk\n",
    "import numpy as np\n",
    "from nltk.corpus import movie_reviews"
   ]
  },
  {
   "cell_type": "code",
   "execution_count": 8,
   "id": "d14b02ae",
   "metadata": {},
   "outputs": [
    {
     "name": "stdout",
     "output_type": "stream",
     "text": [
      "2000\n",
      "['neg', 'pos']\n",
      "['plot', ':', 'two', 'teen', 'couples', 'go', 'to', ...]\n",
      "['neg/cv000_29416.txt', 'neg/cv001_19502.txt', 'neg/cv002_17424.txt', 'neg/cv003_12683.txt', 'neg/cv004_12641.txt', 'neg/cv005_29357.txt', 'neg/cv006_17022.txt', 'neg/cv007_4992.txt', 'neg/cv008_29326.txt', 'neg/cv009_29417.txt']\n"
     ]
    }
   ],
   "source": [
    "print(len(movie_reviews.fileids()))\n",
    "print(movie_reviews.categories())\n",
    "print(movie_reviews.words()[:100])\n",
    "print(movie_reviews.fileids()[:10])"
   ]
  },
  {
   "cell_type": "markdown",
   "id": "7fefe7de",
   "metadata": {},
   "source": [
    "<h6>Rearrange the corpus data as a list of tuple, where the first element is the word tokens of the documents, and the second element is the label of the documents (i.e., sentiment labels).</h6>"
   ]
  },
  {
   "cell_type": "code",
   "execution_count": 9,
   "id": "0777129b",
   "metadata": {},
   "outputs": [],
   "source": [
    "documents = [(list(movie_reviews.words(fileid)), category) for category in movie_reviews.categories() for fileid in movie_reviews.fileids(category)]"
   ]
  },
  {
   "cell_type": "code",
   "execution_count": 13,
   "id": "5fc0de78",
   "metadata": {},
   "outputs": [
    {
     "name": "stdout",
     "output_type": "stream",
     "text": [
      "Number of Reviews/Documents: 2000\n",
      "Corpus Size (words): 1583820\n",
      "\n",
      "\n",
      "Sample Text of Doc 1:\n",
      "\n",
      "\n",
      "plot : two teen couples go to a church party , drink and then drive . they get into an accident . one of the guys dies , but his girlfriend continues to see him in her life , and has nightmares . what ' s the deal ? watch\n"
     ]
    }
   ],
   "source": [
    "print('Number of Reviews/Documents: {}'.format(len(documents)))\n",
    "print('Corpus Size (words): {}'.format(np.sum([len(d) for (d,l) in documents])))\n",
    "print('\\n\\nSample Text of Doc 1:\\n\\n')\n",
    "print(' '.join(documents[0][0][:50])) # first 50 words of the first document"
   ]
  },
  {
   "cell_type": "markdown",
   "id": "043e8195",
   "metadata": {},
   "source": [
    "<h6>We split the entire dataset into two parts: training set and testing set.</h6>"
   ]
  },
  {
   "cell_type": "code",
   "execution_count": 16,
   "id": "424c5a9f",
   "metadata": {},
   "outputs": [],
   "source": [
    "from sklearn.model_selection import train_test_split\n",
    "\n",
    "train, test = train_test_split(documents, test_size = 0.3, random_state=42)"
   ]
  },
  {
   "cell_type": "markdown",
   "id": "52a63d2d",
   "metadata": {},
   "source": [
    "<h6>In the train-test split, make sure the the distribution of the classes is proportional.</h6>"
   ]
  },
  {
   "cell_type": "code",
   "execution_count": 19,
   "id": "0cafe6d6",
   "metadata": {},
   "outputs": [
    {
     "name": "stdout",
     "output_type": "stream",
     "text": [
      "Counter({'neg': 1000, 'pos': 1000})\n"
     ]
    }
   ],
   "source": [
    "## Check Sentiment Distribution of the Current Dataset\n",
    "\n",
    "from collections import Counter\n",
    "\n",
    "sentiment_distr = Counter([label for (words, label) in documents])\n",
    "print(sentiment_distr)"
   ]
  },
  {
   "cell_type": "code",
   "execution_count": 20,
   "id": "93c1809d",
   "metadata": {},
   "outputs": [],
   "source": [
    "X_train = [' '.join(words) for (words, label) in train]\n",
    "X_test = [' '.join(words) for (words, label) in test]\n",
    "y_train = [label for (words, label) in train]\n",
    "y_test = [label for (words, label) in test]"
   ]
  },
  {
   "cell_type": "markdown",
   "id": "69351189",
   "metadata": {},
   "source": [
    "<h6>In feature-based machine learning, we need to vectorize texts into feature sets (i.e., feature engineering on texts).\n",
    "\n",
    "We use the naive bag-of-words text vectorization. In particular, we use the weighted version of BOW</h6>"
   ]
  },
  {
   "cell_type": "code",
   "execution_count": 21,
   "id": "2937f11b",
   "metadata": {},
   "outputs": [],
   "source": [
    "from sklearn.feature_extraction.text import CountVectorizer, TfidfVectorizer\n",
    "\n",
    "tfidf_vec = TfidfVectorizer(min_df = 10, token_pattern = r'[a-zA-Z]+')\n",
    "X_train_bow = tfidf_vec.fit_transform(X_train) # fit train\n",
    "X_test_bow = tfidf_vec.transform(X_test) # transform test"
   ]
  },
  {
   "cell_type": "code",
   "execution_count": 22,
   "id": "fc2e1fa4",
   "metadata": {},
   "outputs": [
    {
     "name": "stdout",
     "output_type": "stream",
     "text": [
      "(1400, 6344)\n",
      "(600, 6344)\n"
     ]
    }
   ],
   "source": [
    "print(X_train_bow.shape)\n",
    "print(X_test_bow.shape)"
   ]
  },
  {
   "cell_type": "markdown",
   "id": "39f23de3",
   "metadata": {},
   "source": [
    "<h6>For our current binary sentiment classifier, we will try Logistic Regression</h6>"
   ]
  },
  {
   "cell_type": "code",
   "execution_count": 23,
   "id": "a23a0485",
   "metadata": {},
   "outputs": [
    {
     "data": {
      "text/plain": [
       "LogisticRegression()"
      ]
     },
     "execution_count": 23,
     "metadata": {},
     "output_type": "execute_result"
    }
   ],
   "source": [
    "from sklearn.linear_model import LogisticRegression\n",
    "\n",
    "model_lg = LogisticRegression()\n",
    "model_lg.fit(X_train_bow, y_train)"
   ]
  },
  {
   "cell_type": "code",
   "execution_count": 24,
   "id": "ee4f555e",
   "metadata": {},
   "outputs": [
    {
     "data": {
      "text/plain": [
       "array(['pos', 'pos', 'pos', 'pos', 'pos', 'pos', 'neg', 'pos', 'neg',\n",
       "       'pos'], dtype='<U3')"
      ]
     },
     "execution_count": 24,
     "metadata": {},
     "output_type": "execute_result"
    }
   ],
   "source": [
    "model_lg.predict(X_test_bow[:10].toarray())"
   ]
  },
  {
   "cell_type": "markdown",
   "id": "3e110dad",
   "metadata": {},
   "source": [
    "<h4>Evaluating our model</h4>"
   ]
  },
  {
   "cell_type": "code",
   "execution_count": 25,
   "id": "cbfb110e",
   "metadata": {},
   "outputs": [
    {
     "name": "stdout",
     "output_type": "stream",
     "text": [
      "0.8183333333333334\n"
     ]
    }
   ],
   "source": [
    "#Mean Accuracy\n",
    "\n",
    "print(model_lg.score(X_test_bow, y_test))"
   ]
  },
  {
   "cell_type": "code",
   "execution_count": 26,
   "id": "d277f8b5",
   "metadata": {},
   "outputs": [
    {
     "data": {
      "text/plain": [
       "array([0.81803005, 0.81863561])"
      ]
     },
     "execution_count": 26,
     "metadata": {},
     "output_type": "execute_result"
    }
   ],
   "source": [
    "# F1\n",
    "\n",
    "from sklearn.metrics import f1_score\n",
    "\n",
    "y_pred = model_lg.predict(X_test_bow)\n",
    "\n",
    "f1_score(y_test, y_pred, \n",
    "         average=None, \n",
    "         labels = movie_reviews.categories())"
   ]
  },
  {
   "cell_type": "code",
   "execution_count": 27,
   "id": "f103b66b",
   "metadata": {},
   "outputs": [
    {
     "name": "stderr",
     "output_type": "stream",
     "text": [
      "C:\\Users\\hp\\AppData\\Roaming\\Python\\Python39\\site-packages\\sklearn\\utils\\deprecation.py:87: FutureWarning: Function plot_confusion_matrix is deprecated; Function `plot_confusion_matrix` is deprecated in 1.0 and will be removed in 1.2. Use one of the class methods: ConfusionMatrixDisplay.from_predictions or ConfusionMatrixDisplay.from_estimator.\n",
      "  warnings.warn(msg, category=FutureWarning)\n"
     ]
    },
    {
     "data": {
      "text/plain": [
       "<sklearn.metrics._plot.confusion_matrix.ConfusionMatrixDisplay at 0x213ae38a1c0>"
      ]
     },
     "execution_count": 27,
     "metadata": {},
     "output_type": "execute_result"
    },
    {
     "data": {
      "image/png": "[encoded data removed]",
      "text/plain": [
       "<Figure size 640x480 with 2 Axes>"
      ]
     },
     "metadata": {},
     "output_type": "display_data"
    }
   ],
   "source": [
    "# Confusion Matrix\n",
    "\n",
    "from sklearn.metrics import plot_confusion_matrix\n",
    "\n",
    "plot_confusion_matrix(model_lg, X_test_bow.toarray(), y_test, normalize='all')"
   ]
  }
 ],
 "metadata": {
  "kernelspec": {
   "display_name": "Python 3",
   "language": "python",
   "name": "python3"
  },
  "language_info": {
   "codemirror_mode": {
    "name": "ipython",
    "version": 3
   },
   "file_extension": ".py",
   "mimetype": "text/x-python",
   "name": "python",
   "nbconvert_exporter": "python",
   "pygments_lexer": "ipython3",
   "version": "3.8.8"
  },
  "vscode": {
   "interpreter": {
    "hash": "265b5c8cc3d022a996671a154ba5d359be3e21af38d99b4bc86982c2ae603dd0"
   }
  }
 },
 "nbformat": 4,
 "nbformat_minor": 5
}
