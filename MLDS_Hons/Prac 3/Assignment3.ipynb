{
 "cells": [
  {
   "cell_type": "markdown",
   "metadata": {
    "executionInfo": {
     "elapsed": 7,
     "status": "ok",
     "timestamp": 1666258586743,
     "user": {
      "displayName": "Neil Deshpande",
      "userId": "16520747477534733216"
     },
     "user_tz": -330
    },
    "id": "NLySOTOjv309"
   },
   "source": [
    "\n",
    "<h3>Implement basic logic gates using Hebbnet neural networks</h3>"
   ]
  },
  {
   "cell_type": "code",
   "execution_count": 1,
   "metadata": {
    "id": "NiG06Dfqv1Fq"
   },
   "outputs": [],
   "source": [
    "def hebbian_learning(samples):\n",
    "     print(f'{\"INPUT\":^8} {\"TARGET\":^16}{\"WEIGHT CHANGES\":^15}{\"WEIGHTS\":^25}')\n",
    "     w1, w2, b = 0, 0, 0\n",
    "     print(' ' * 45, f'({w1:2}, {w2:2}, {b:2})')\n",
    "     for x1, x2, y in samples:\n",
    "         w1 = w1 + x1 * y\n",
    "         w2 = w2 + x2 * y\n",
    "         b = b + y\n",
    "         print(f'({x1:2}, {x2:2}) {y:2} ({x1*y:2}, {x2*y:2}, {y:2}) ({w1:2}, {w2:2}, {b:2})')\n"
   ]
  },
  {
   "cell_type": "code",
   "execution_count": 2,
   "metadata": {
    "id": "bQOj_0PKv1Fu"
   },
   "outputs": [],
   "source": [
    "AND_samples = {\n",
    "    'binary_input_binary_output': [\n",
    "        [1, 1, 1],\n",
    "        [1, 0, 0],\n",
    "        [0, 1, 0],\n",
    "        [0, 0, 0]\n",
    "    ],\n",
    "    'binary_input_bipolar_output': [\n",
    "        [1, 1, 1],\n",
    "        [1, 0, -1],\n",
    "        [0, 1, -1],\n",
    "        [0, 0, -1]\n",
    "    ],\n",
    "    'bipolar_input_bipolar_output': [\n",
    "        [ 1, 1, 1],\n",
    "        [ 1, -1, -1],\n",
    "        [-1, 1, -1],\n",
    "        [-1, -1, -1]\n",
    "    ]\n",
    "}\n",
    "OR_samples = {\n",
    "    'binary_input_binary_output': [\n",
    "        [1, 1, 1],\n",
    "        [1, 0, 1],\n",
    "        [0, 1, 1],\n",
    "        [0, 0, 0]\n",
    "    ],\n",
    "    'binary_input_bipolar_output': [\n",
    "        [1, 1, 1],\n",
    "        [1, 0, 1],\n",
    "        [0, 1, 1],\n",
    "        [0, 0, -1]\n",
    "    ],\n",
    "    'bipolar_input_bipolar_output': [\n",
    "        [ 1, 1, 1],\n",
    "        [ 1, -1, 1],\n",
    "        [-1, 1, 1],\n",
    "        [-1, -1, -1]\n",
    "    ]\n",
    "}\n",
    "XOR_samples = {\n",
    "    'binary_input_binary_output': [\n",
    "        [1, 1, 0],\n",
    "        [1, 0, 1],\n",
    "        [0, 1, 1],\n",
    "        [0, 0, 0]\n",
    "    ],\n",
    "    'binary_input_bipolar_output': [\n",
    "        [1, 1, -1],\n",
    "        [1, 0, 1],\n",
    "        [0, 1, 1],\n",
    "        [0, 0, -1]\n",
    "    ],\n",
    "    'bipolar_input_bipolar_output': [\n",
    "        [ 1, 1, -1],\n",
    "        [ 1, -1, 1],\n",
    "        [-1, 1, 1],\n",
    "        [-1, -1, -1]\n",
    "    ]\n",
    "}"
   ]
  },
  {
   "cell_type": "code",
   "execution_count": 3,
   "metadata": {
    "id": "KHZJAEhAv1Fy",
    "outputId": "e6c865d6-2606-4eac-9e78-2eb8a8943d48"
   },
   "outputs": [
    {
     "name": "stdout",
     "output_type": "stream",
     "text": [
      "-------------------- HEBBIAN LEARNING --------------------\n",
      "AND with Binary Input and Binary Output\n",
      " INPUT        TARGET     WEIGHT CHANGES          WEIGHTS         \n",
      "                                              ( 0,  0,  0)\n",
      "( 1,  1)  1 ( 1,  1,  1) ( 1,  1,  1)\n",
      "( 1,  0)  0 ( 0,  0,  0) ( 1,  1,  1)\n",
      "( 0,  1)  0 ( 0,  0,  0) ( 1,  1,  1)\n",
      "( 0,  0)  0 ( 0,  0,  0) ( 1,  1,  1)\n",
      "AND with Binary Input and Bipolar Output\n",
      " INPUT        TARGET     WEIGHT CHANGES          WEIGHTS         \n",
      "                                              ( 0,  0,  0)\n",
      "( 1,  1)  1 ( 1,  1,  1) ( 1,  1,  1)\n",
      "( 1,  0) -1 (-1,  0, -1) ( 0,  1,  0)\n",
      "( 0,  1) -1 ( 0, -1, -1) ( 0,  0, -1)\n",
      "( 0,  0) -1 ( 0,  0, -1) ( 0,  0, -2)\n",
      "AND with Bipolar Input and Bipolar Output\n",
      " INPUT        TARGET     WEIGHT CHANGES          WEIGHTS         \n",
      "                                              ( 0,  0,  0)\n",
      "( 1,  1)  1 ( 1,  1,  1) ( 1,  1,  1)\n",
      "( 1, -1) -1 (-1,  1, -1) ( 0,  2,  0)\n",
      "(-1,  1) -1 ( 1, -1, -1) ( 1,  1, -1)\n",
      "(-1, -1) -1 ( 1,  1, -1) ( 2,  2, -2)\n"
     ]
    }
   ],
   "source": [
    "print('--------------------', 'HEBBIAN LEARNING', '--------------------')\n",
    "print('AND with Binary Input and Binary Output')\n",
    "hebbian_learning(AND_samples['binary_input_binary_output'])\n",
    "print('AND with Binary Input and Bipolar Output')\n",
    "hebbian_learning(AND_samples['binary_input_bipolar_output'])\n",
    "print('AND with Bipolar Input and Bipolar Output')\n",
    "hebbian_learning(AND_samples['bipolar_input_bipolar_output'])"
   ]
  },
  {
   "cell_type": "code",
   "execution_count": 4,
   "metadata": {
    "id": "C8gdr1Kgv1F0",
    "outputId": "ff49f2bb-e4a3-42d0-e427-79c6a4b1448a"
   },
   "outputs": [
    {
     "name": "stdout",
     "output_type": "stream",
     "text": [
      "-------------------- HEBBIAN LEARNING --------------------\n",
      "OR with binary input and binary output\n",
      " INPUT        TARGET     WEIGHT CHANGES          WEIGHTS         \n",
      "                                              ( 0,  0,  0)\n",
      "( 1,  1)  1 ( 1,  1,  1) ( 1,  1,  1)\n",
      "( 1,  0)  1 ( 1,  0,  1) ( 2,  1,  2)\n",
      "( 0,  1)  1 ( 0,  1,  1) ( 2,  2,  3)\n",
      "( 0,  0)  0 ( 0,  0,  0) ( 2,  2,  3)\n",
      "OR with binary input and bipolar output\n",
      " INPUT        TARGET     WEIGHT CHANGES          WEIGHTS         \n",
      "                                              ( 0,  0,  0)\n",
      "( 1,  1)  1 ( 1,  1,  1) ( 1,  1,  1)\n",
      "( 1,  0)  1 ( 1,  0,  1) ( 2,  1,  2)\n",
      "( 0,  1)  1 ( 0,  1,  1) ( 2,  2,  3)\n",
      "( 0,  0) -1 ( 0,  0, -1) ( 2,  2,  2)\n",
      "OR with bipolar input and bipolar output\n",
      " INPUT        TARGET     WEIGHT CHANGES          WEIGHTS         \n",
      "                                              ( 0,  0,  0)\n",
      "( 1,  1)  1 ( 1,  1,  1) ( 1,  1,  1)\n",
      "( 1, -1)  1 ( 1, -1,  1) ( 2,  0,  2)\n",
      "(-1,  1)  1 (-1,  1,  1) ( 1,  1,  3)\n",
      "(-1, -1) -1 ( 1,  1, -1) ( 2,  2,  2)\n"
     ]
    }
   ],
   "source": [
    "print('--------------------', 'HEBBIAN LEARNING', '--------------------')\n",
    "print('OR with binary input and binary output')\n",
    "hebbian_learning(OR_samples['binary_input_binary_output'])\n",
    "print('OR with binary input and bipolar output')\n",
    "hebbian_learning(OR_samples['binary_input_bipolar_output'])\n",
    "print('OR with bipolar input and bipolar output')\n",
    "hebbian_learning(OR_samples['bipolar_input_bipolar_output'])"
   ]
  },
  {
   "cell_type": "code",
   "execution_count": 5,
   "metadata": {
    "id": "VHnGiTddv1F1",
    "outputId": "1fd7e5ab-c244-4abf-f6d0-7d2c6b8db1ec"
   },
   "outputs": [
    {
     "name": "stdout",
     "output_type": "stream",
     "text": [
      "-------------------- HEBBIAN LEARNING --------------------\n",
      "XOR with binary input and binary output\n",
      " INPUT        TARGET     WEIGHT CHANGES          WEIGHTS         \n",
      "                                              ( 0,  0,  0)\n",
      "( 1,  1)  0 ( 0,  0,  0) ( 0,  0,  0)\n",
      "( 1,  0)  1 ( 1,  0,  1) ( 1,  0,  1)\n",
      "( 0,  1)  1 ( 0,  1,  1) ( 1,  1,  2)\n",
      "( 0,  0)  0 ( 0,  0,  0) ( 1,  1,  2)\n",
      "XOR with binary input and bipolar output\n",
      " INPUT        TARGET     WEIGHT CHANGES          WEIGHTS         \n",
      "                                              ( 0,  0,  0)\n",
      "( 1,  1) -1 (-1, -1, -1) (-1, -1, -1)\n",
      "( 1,  0)  1 ( 1,  0,  1) ( 0, -1,  0)\n",
      "( 0,  1)  1 ( 0,  1,  1) ( 0,  0,  1)\n",
      "( 0,  0) -1 ( 0,  0, -1) ( 0,  0,  0)\n",
      "XOR with bipolar input and bipolar output\n",
      " INPUT        TARGET     WEIGHT CHANGES          WEIGHTS         \n",
      "                                              ( 0,  0,  0)\n",
      "( 1,  1) -1 (-1, -1, -1) (-1, -1, -1)\n",
      "( 1, -1)  1 ( 1, -1,  1) ( 0, -2,  0)\n",
      "(-1,  1)  1 (-1,  1,  1) (-1, -1,  1)\n",
      "(-1, -1) -1 ( 1,  1, -1) ( 0,  0,  0)\n"
     ]
    }
   ],
   "source": [
    "print('--------------------', 'HEBBIAN LEARNING', '--------------------')\n",
    "print('XOR with binary input and binary output')\n",
    "hebbian_learning(XOR_samples['binary_input_binary_output'])\n",
    "print('XOR with binary input and bipolar output')\n",
    "hebbian_learning(XOR_samples['binary_input_bipolar_output'])\n",
    "print('XOR with bipolar input and bipolar output')\n",
    "hebbian_learning(XOR_samples['bipolar_input_bipolar_output'])"
   ]
  }
 ],
 "metadata": {
  "colab": {
   "provenance": []
  },
  "kernelspec": {
   "display_name": "Python 3",
   "language": "python",
   "name": "python3"
  },
  "language_info": {
   "codemirror_mode": {
    "name": "ipython",
    "version": 3
   },
   "file_extension": ".py",
   "mimetype": "text/x-python",
   "name": "python",
   "nbconvert_exporter": "python",
   "pygments_lexer": "ipython3",
   "version": "3.8.8"
  },
  "vscode": {
   "interpreter": {
    "hash": "265b5c8cc3d022a996671a154ba5d359be3e21af38d99b4bc86982c2ae603dd0"
   }
  }
 },
 "nbformat": 4,
 "nbformat_minor": 1
}
